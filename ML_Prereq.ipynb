{
  "nbformat": 4,
  "nbformat_minor": 0,
  "metadata": {
    "colab": {
      "provenance": []
    },
    "kernelspec": {
      "name": "python3",
      "display_name": "Python 3"
    },
    "language_info": {
      "name": "python"
    }
  },
  "cells": [
    {
      "cell_type": "markdown",
      "source": [
        "## Question 1\n",
        "*  Let the matrices be A and B of sizes n * k and k * m respectively. Then the final matrix after multiplying a n * k and k * m matrix will be of size n * m, call it M. For getting a valut at a postion i,j of matrix M we need k multiplications  and k-1 additions, as M[i][j] can be obtained by dot product of two vectors i.e ith row of A and jth column of B.\n",
        "* Hence in total we need n*m*k multiplications and n * m * (k-1) additions."
      ],
      "metadata": {
        "id": "ivCRupSAaNEp"
      }
    },
    {
      "cell_type": "code",
      "execution_count": null,
      "metadata": {
        "colab": {
          "base_uri": "https://localhost:8080/"
        },
        "id": "JjgK7EBLaIzj",
        "outputId": "769f173e-e271-486e-e247-3473c20525ca"
      },
      "outputs": [
        {
          "output_type": "stream",
          "name": "stdout",
          "text": [
            "Time taken to multiply two matrices of dimension 200*100 and 100*150 using list of lists is  2.9353017807006836\n",
            "Time taken to multiply two matrices of dimension 200*100 and 100*150 using numpy is  0.0005943775177001953\n"
          ]
        }
      ],
      "source": [
        "import numpy as np\n",
        "import time\n",
        "def mat_mul(mat1, mat2):\n",
        "    res=[]\n",
        "    n,m,k = len(mat1), len(mat2[0]), len(mat1[0])\n",
        "    for i in range(n):\n",
        "        temp=[]\n",
        "        for j in range(m):\n",
        "            temp.append(0)\n",
        "        res.append(temp)\n",
        "    for i in range(n):\n",
        "        for j in range(m):\n",
        "            for a in range(k):\n",
        "                res[i][j] += mat1[i][a]*mat2[a][j]\n",
        "    return res\n",
        "\n",
        "# a1=[[1,2,3],\n",
        "#    [2,1,3],\n",
        "#    [4,1,2]]\n",
        "# a2=[[1,2,3],\n",
        "#    [2,7,3],\n",
        "#    [4,1,9]]\n",
        "\n",
        "rows_a, cols_a = 200, 100\n",
        "rows_b, cols_b = 100, 150\n",
        "\n",
        "a1 = np.random.rand(rows_a, cols_a)\n",
        "a2 = np.random.rand(rows_b, cols_b)\n",
        "t1=time.time()\n",
        "fin = mat_mul(a1,a2)\n",
        "t2=time.time()\n",
        "#print(fin)\n",
        "\n",
        "na1 = np.array(a1)\n",
        "na2 = np.array(a2)\n",
        "t3=time.time()\n",
        "nfin = np.dot(na1,na2)\n",
        "t4=time.time()\n",
        "#print(nfin)\n",
        "print(\"Time taken to multiply two matrices of dimension 200*100 and 100*150 using list of lists is \", t2-t1)\n",
        "print(\"Time taken to multiply two matrices of dimension 200*100 and 100*150 using numpy is \", t4-t3)"
      ]
    },
    {
      "cell_type": "markdown",
      "source": [
        "* We can clearly see that numpy multiplication is faster.\n",
        "* The reason why numpy multiplication is faster than multiplication using list of lists is because of two main reasons:\n",
        "* Vectorization: NumPy operations are vectorized, meaning they operate on entire arrays (or matrices) at once. This allows NumPy in faster execution.\n",
        "* Parallelism: NumPy can take advantage of multiple cores and parallel processing when performing certain operations, making it faster for large-scale matrix multiplications."
      ],
      "metadata": {
        "id": "FVEUds7yhzds"
      }
    },
    {
      "cell_type": "markdown",
      "source": [
        "## Question 2"
      ],
      "metadata": {
        "id": "0AD-yzl75jQ8"
      }
    },
    {
      "cell_type": "code",
      "source": [
        "def find_median(arr1):\n",
        "    arr=[]\n",
        "    for i in arr1:\n",
        "        arr.append(i)\n",
        "    n = len(arr)\n",
        "    mn = min(arr)\n",
        "    for i in range((n)//2 - 1):\n",
        "        max_ind = 0\n",
        "        max_ele = arr[0]\n",
        "        for j in range(1,n):\n",
        "            if (arr[j]>=max_ele):\n",
        "                max_ele = arr[j]\n",
        "                max_ind =  j\n",
        "        arr[max_ind] = mn\n",
        "    ind=0\n",
        "    max1=arr[0]\n",
        "    for i in range(len(arr)):\n",
        "        if (arr[i]>=max1):\n",
        "            ind = i\n",
        "            max1 = arr[i]\n",
        "    arr[ind]=mn\n",
        "    max2= max(arr)\n",
        "    if (len(arr)%2):\n",
        "        return max2\n",
        "    else:\n",
        "        return (max1+max2)/2\n",
        "\n",
        "\n",
        "def find_med_op(arr1):\n",
        "    arr=[]\n",
        "    for i in arr1:\n",
        "        arr.append(i)\n",
        "    n = (len(arr)-1)//2\n",
        "    arr.sort()\n",
        "    if (len(arr)%2):\n",
        "        return arr[n]\n",
        "    return (arr[n]+arr[n+1])/2\n",
        "\n",
        "# arr1 = [5,1,4,2,3,8,6,7]\n",
        "# arr2 = [5,1,4,2,3,6,7]\n",
        "\n",
        "# print(find_median(arr1))\n",
        "# print(find_med_op(arr1))\n",
        "\n",
        "# print(find_median(arr2))\n",
        "# print(find_med_op(arr2))\n",
        "\n",
        "\n",
        "ra1 = np.random.randint(low=-1e9, high=1e9, size=int(1e3))\n",
        "ra2 = np.random.randint(low=-1e9, high=1e9, size=int(1e3+1))\n",
        "\n",
        "ta1=time.time()\n",
        "print(\"Median of first randomly generated array of length 1000 using brute force way is \",find_median(ra1),\" and time taken is \",end=\" \")\n",
        "ta2=time.time()\n",
        "print(ta2-ta1)\n",
        "print(\"Median of first randomly generated array of length 1000 using sorting is \",find_med_op(ra1),\" and time taken is \",end=\" \")\n",
        "ta3=time.time()\n",
        "print(ta3-ta2)\n",
        "print(\"Median of second randomly generated array of length 1001 using brute force way is \",find_median(ra2),\" and time taken is\",end= \" \")\n",
        "ta4=time.time()\n",
        "print(ta4-ta3)\n",
        "print(\"Median of second randomly generated array of length 1001 using sorting is \",find_med_op(ra2),\" and time taken is \",end=\" \")\n",
        "ta5=time.time()\n",
        "print(ta5-ta4)\n",
        "print()\n",
        "\n",
        "ta6 = time.time()\n",
        "med1 = np.median(ra1)\n",
        "ta7 = time.time()\n",
        "print(\"Median of first randomly generated array of length 1000 using numpy is \",med1,\" and time taken is \",ta7-ta6)\n",
        "ta8 = time.time()\n",
        "med2 = np.median(ra2)\n",
        "ta9=time.time()\n",
        "print(\"Median of second randomly generated array of length 1001 using numpy is \",med2,\" and time taken is \",ta9-ta8)"
      ],
      "metadata": {
        "colab": {
          "base_uri": "https://localhost:8080/"
        },
        "id": "FItiyj0vi8En",
        "outputId": "531cb2f0-4982-4434-9302-3bf49d4f6c3e"
      },
      "execution_count": null,
      "outputs": [
        {
          "output_type": "stream",
          "name": "stdout",
          "text": [
            "Median of first randomly generated array of length 1000 using brute force way is  -13762401.5  and time taken is  0.03970670700073242\n",
            "Median of first randomly generated array of length 1000 using sorting is  -13762401.5  and time taken is  0.0008265972137451172\n",
            "Median of second randomly generated array of length 1001 using brute force way is  14354387  and time taken is 0.04072976112365723\n",
            "Median of second randomly generated array of length 1001 using sorting is  14354387  and time taken is  0.0031480789184570312\n",
            "\n",
            "Median of first randomly generated array of length 1000 using numpy is  -13762401.5  and time taken is  0.001583099365234375\n",
            "Median of second randomly generated array of length 1001 using numpy is  14354387.0  and time taken is  0.001756429672241211\n"
          ]
        }
      ]
    },
    {
      "cell_type": "markdown",
      "source": [
        "* Calculating median of array by calculating maximum element approx $n/2$ times takes around $n*(n/2)$ steps as calculating maximum element in an array tales n steps.\n",
        "* Hence the time complexity of calculating median by calculating largest elements $n/2$ times is $O(n^2)$.\n",
        "* We can do better by first sorting the array and taking the $n/2$ th element of the array. Its time complexity will be $O(n.log(n))$ as we are sorting the array whose time complexity is $O(n.log(n))$."
      ],
      "metadata": {
        "id": "5pPIOaUKU2CP"
      }
    },
    {
      "cell_type": "markdown",
      "source": [
        "##Question 4\n",
        "\n",
        "* The gradient descent of the function $f(x)$ = $x^2 y + y^3sin(x)$ w.r.t to x will be $2xy + y^3cos(x)$ and w.r.t to y will be $x^2 + 3y^2sin(x)$."
      ],
      "metadata": {
        "id": "QiHgNBekWsvr"
      }
    },
    {
      "cell_type": "markdown",
      "source": [
        "## Question 5"
      ],
      "metadata": {
        "id": "eZH-skCp5sK9"
      }
    },
    {
      "cell_type": "code",
      "source": [
        "# Q5\n",
        "import jax\n",
        "import jax.numpy as jnp\n",
        "\n",
        "def f(x,y):\n",
        "    return (x*x)*y + (y**3)*jnp.sin(x)\n",
        "def fx(x,y):\n",
        "    return 2*x*y + jnp.cos(x) * (y**3)\n",
        "def fy(x,y):\n",
        "    return (x*x) + 3*(y*y)*jnp.sin(x)\n",
        "\n",
        "gradient_x=jax.grad(f,argnums=0)\n",
        "print(\"Gradient wrt x using jax at: \")\n",
        "print(\"x=2,y=4 is \",gradient_x(2.0,4.0))\n",
        "print(\"x=3,y=5 is \",gradient_x(3.0,5.0))\n",
        "print(\"x=9,y=11 is \",gradient_x(9.0,11.0))\n",
        "print(\"x= -9,y= -11 is \",gradient_x(-9.0,-11.0))\n",
        "print()\n",
        "print(\"Gradient wrt x using analytical soln at: \")\n",
        "print(\"x=2,y=4 is \",fx(2.0,4.0))\n",
        "print(\"x=3,y=5 is \",fx(3.0,5.0))\n",
        "print(\"x=9,y=11 is \",fx(9.0,11.0))\n",
        "print(\"x= -9,y= -11 is \",fx(-9.0,-11.0))\n",
        "print()\n",
        "\n",
        "\n",
        "gradient_y=jax.grad(f,argnums=1)\n",
        "print(\"Gradient wrt y using jax at-\")\n",
        "print(\"x=2,y=4 is\",gradient_y(2.0,4.0))\n",
        "print(\"x=3,y=5 is \",gradient_y(3.0,5.0))\n",
        "print(\"x=9,y=11 is \",gradient_y(9.0,11.0))\n",
        "print(\"x= -9,y= -11 is \",gradient_y(-9.0,-11.0))\n",
        "print()\n",
        "\n",
        "print(\"Gradient wrt y using analytical soln at: \")\n",
        "print(\"x=2,y=4 is \",fy(2.0,4.0))\n",
        "print(\"x=3,y=5 is \",fy(3.0,5.0))\n",
        "print(\"x=9,y=11 is \",fy(9.0,11.0))\n",
        "print(\"x= -9,y= -11 is \",fy(-9.0,-11.0))"
      ],
      "metadata": {
        "id": "gcGm_zIDaHfv",
        "colab": {
          "base_uri": "https://localhost:8080/"
        },
        "outputId": "ab03c174-ec0a-46e1-81e5-8eddc25f38bc"
      },
      "execution_count": 53,
      "outputs": [
        {
          "output_type": "stream",
          "name": "stdout",
          "text": [
            "Gradient wrt x using jax at: \n",
            "x=2,y=4 is  -10.633398\n",
            "x=3,y=5 is  -93.74906\n",
            "x=9,y=11 is  -1014.71436\n",
            "x= -9,y= -11 is  1410.7144\n",
            "\n",
            "Gradient wrt x using analytical soln at: \n",
            "x=2,y=4 is  -10.633398\n",
            "x=3,y=5 is  -93.74906\n",
            "x=9,y=11 is  -1014.71436\n",
            "x= -9,y= -11 is  1410.7144\n",
            "\n",
            "Gradient wrt y using jax at-\n",
            "x=2,y=4 is 47.646275\n",
            "x=3,y=5 is  19.584\n",
            "x=9,y=11 is  230.59901\n",
            "x= -9,y= -11 is  -68.599014\n",
            "\n",
            "Gradient wrt y using analytical soln at: \n",
            "x=2,y=4 is  47.646275\n",
            "x=3,y=5 is  19.584\n",
            "x=9,y=11 is  230.59901\n",
            "x= -9,y= -11 is  -68.599014\n"
          ]
        }
      ]
    },
    {
      "cell_type": "markdown",
      "source": [
        "## Question 6\n",
        "* Checking with sympy to confirm that the same gradient is calculated analytically."
      ],
      "metadata": {
        "id": "axEEGN8k4-PS"
      }
    },
    {
      "cell_type": "code",
      "source": [
        "import sympy as sp\n",
        "x,y =sp.symbols('x y')\n",
        "f= (x**2)*y + (y**3)*sp.sin(x)\n",
        "\n",
        "print(sp.diff(f,x))\n",
        "print(sp.diff(f,y))"
      ],
      "metadata": {
        "colab": {
          "base_uri": "https://localhost:8080/"
        },
        "id": "Gx1Pxzvp4yXp",
        "outputId": "8a2a6320-f313-4fd9-8702-99de50605ef7"
      },
      "execution_count": 54,
      "outputs": [
        {
          "output_type": "stream",
          "name": "stdout",
          "text": [
            "2*x*y + y**3*cos(x)\n",
            "x**2 + 3*y**2*sin(x)\n"
          ]
        }
      ]
    },
    {
      "cell_type": "markdown",
      "source": [
        "## Question 7"
      ],
      "metadata": {
        "id": "cbQg44725421"
      }
    },
    {
      "cell_type": "code",
      "source": [
        "#Q7\n",
        "info = {\n",
        "    2022: {\n",
        "        'Branch 1': {\n",
        "            1: {'Name': 'Dewansh', 'Marks': {'Maths': 100, 'English': 100}}\n",
        "        },\n",
        "        'Branch 2': {\n",
        "            2: {'Name': 'DewanshK', 'Marks': {'Maths': 100, 'English': 100}}\n",
        "        },\n",
        "    },\n",
        "    2023: {\n",
        "        'Branch 1': {\n",
        "            11: {'Name': 'Dew', 'Marks': {'Maths': 99, 'English': 97}}\n",
        "        },\n",
        "        'Branch 2': {\n",
        "            12: {'Name': 'Dk', 'Marks': {'Maths': 91, 'English': 93}}\n",
        "        }\n",
        "    },\n",
        "    2024: {\n",
        "        'Branch 1': {},\n",
        "        'Branch 2': {}\n",
        "    },\n",
        "    2025: {\n",
        "        'Branch 1': {},\n",
        "        'Branch 2': {}\n",
        "    }\n",
        "}\n",
        "print(info[2022]['Branch 1'][1])\n",
        "print(info[2022]['Branch 1'][1]['Marks'])\n",
        "print(info[2022]['Branch 1'][1]['Marks']['English'],\"\\n\")\n",
        "\n",
        "print(info[2023]['Branch 2'][12])\n",
        "print(info[2023]['Branch 2'][12]['Marks'])\n",
        "print(info[2023]['Branch 2'][12]['Marks']['English'])"
      ],
      "metadata": {
        "colab": {
          "base_uri": "https://localhost:8080/"
        },
        "id": "gNIbn-XMbt8j",
        "outputId": "1158f052-f6d4-422a-8177-c7c425c43008"
      },
      "execution_count": null,
      "outputs": [
        {
          "output_type": "stream",
          "name": "stdout",
          "text": [
            "{'Name': 'Dewansh', 'Marks': {'Maths': 100, 'English': 100}}\n",
            "{'Maths': 100, 'English': 100}\n",
            "100 \n",
            "\n",
            "{'Name': 'Dk', 'Marks': {'Maths': 91, 'English': 93}}\n",
            "{'Maths': 91, 'English': 93}\n",
            "93\n"
          ]
        }
      ]
    },
    {
      "cell_type": "markdown",
      "source": [
        "## Question 8"
      ],
      "metadata": {
        "id": "s0s43JXT58Vk"
      }
    },
    {
      "cell_type": "code",
      "source": [
        "#Q8\n",
        "class Student:\n",
        "    def __init__(self, rollno, name, marks):\n",
        "        self.roll_number = rollno\n",
        "        self.name = name\n",
        "        self.marks = marks\n",
        "\n",
        "class Branch:\n",
        "    def __init__(self, name):\n",
        "        self.name = name\n",
        "        self.students = []\n",
        "\n",
        "    def add_student(self, student):\n",
        "        self.students.append(student)\n",
        "\n",
        "class Year:\n",
        "    def __init__(self, year):\n",
        "        self.year = year\n",
        "        self.branches = []\n",
        "\n",
        "    def add_branch(self, branch):\n",
        "        self.branches.append(branch)\n",
        "\n",
        "database = []\n",
        "\n",
        "year2022 = Year(2022)\n",
        "branch1_2022 = Branch('Branch 1')\n",
        "student1_2022 = Student(1, 'Dewansh', {'Maths': 100, 'English': 70})\n",
        "branch1_2022.add_student(student1_2022)\n",
        "year2022.add_branch(branch1_2022)\n",
        "\n",
        "branch2_2022 = Branch('Branch 2')\n",
        "student2_2022 = Student(2, 'Shyam', {'Maths': 90, 'English': 80})\n",
        "branch2_2022.add_student(student2_2022)\n",
        "year2022.add_branch(branch2_2022)\n",
        "database.append(year2022)\n",
        "\n",
        "year2023 = Year(2023)\n",
        "branch1_2023 = Branch('Branch 1')\n",
        "student1_2023 = Student(11, 'Dew', {'Maths': 99, 'English': 79})\n",
        "branch1_2023.add_student(student1_2023)\n",
        "year2023.add_branch(branch1_2023)\n",
        "database.append(year2023)\n",
        "\n",
        "for year in database:\n",
        "    print(f\"Year {year.year}:\")\n",
        "    for branch in year.branches:\n",
        "        print(f\"  Branch: {branch.name}:\")\n",
        "        for student in branch.students:\n",
        "            print(f\"    Roll no.: {student.roll_number}:\")\n",
        "            print(f\"      Name: {student.name}\")\n",
        "            print(\"      Marks:\")\n",
        "            for subject, score in student.marks.items():\n",
        "                print(f\"        {subject}: {score}\")\n",
        "    print()\n"
      ],
      "metadata": {
        "colab": {
          "base_uri": "https://localhost:8080/"
        },
        "id": "jDF1RzJKkXZm",
        "outputId": "c0862eb4-0584-47f6-c0ad-d264892b79b3"
      },
      "execution_count": null,
      "outputs": [
        {
          "output_type": "stream",
          "name": "stdout",
          "text": [
            "Year 2022:\n",
            "  Branch: Branch 1:\n",
            "    Roll no.: 1:\n",
            "      Name: Dewansh\n",
            "      Marks:\n",
            "        Maths: 100\n",
            "        English: 70\n",
            "  Branch: Branch 2:\n",
            "    Roll no.: 2:\n",
            "      Name: Shyam\n",
            "      Marks:\n",
            "        Maths: 90\n",
            "        English: 80\n",
            "\n",
            "Year 2023:\n",
            "  Branch: Branch 1:\n",
            "    Roll no.: 11:\n",
            "      Name: Dew\n",
            "      Marks:\n",
            "        Maths: 99\n",
            "        English: 79\n",
            "\n"
          ]
        }
      ]
    },
    {
      "cell_type": "markdown",
      "source": [
        "## Question 9"
      ],
      "metadata": {
        "id": "_jcT-9px6AiH"
      }
    },
    {
      "cell_type": "code",
      "source": [
        "import matplotlib.pyplot as plt\n",
        "import numpy as np\n",
        "\n",
        "x = np.arange(0.5, 100.5, 0.5)\n",
        "fig, axes = plt.subplots(4, 2, figsize=(5, 6))\n",
        "axes[0, 0].plot(x, x, label='y=x')\n",
        "axes[0, 0].legend()\n",
        "\n",
        "axes[0, 1].plot(x, x*x, label='y=x^2')\n",
        "axes[0, 1].legend()\n",
        "\n",
        "axes[1, 0].plot(x, x*x*x/100, label='y=x^3/100')\n",
        "axes[1, 0].legend()\n",
        "\n",
        "axes[1, 1].plot(x, np.sin(x), label='y=sin(x)')\n",
        "axes[1, 1].legend()\n",
        "\n",
        "axes[2, 0].plot(x, np.sin(x)/x, label='y=sin(x)/x')\n",
        "axes[2, 0].legend()\n",
        "\n",
        "axes[2, 1].plot(x, np.log(x), label='y=log(x)')\n",
        "axes[2, 1].legend()\n",
        "\n",
        "axes[3, 0].plot(x, np.exp(x), label='y=e^x')\n",
        "axes[3, 0].legend()\n",
        "\n",
        "axes[3, 1].axis('off')\n",
        "plt.tight_layout()\n",
        "plt.show()\n"
      ],
      "metadata": {
        "colab": {
          "base_uri": "https://localhost:8080/",
          "height": 607
        },
        "id": "73Rw345yrSc1",
        "outputId": "b468502b-ad11-4fb7-e71b-05a3bc384a53"
      },
      "execution_count": null,
      "outputs": [
        {
          "output_type": "display_data",
          "data": {
            "text/plain": [
              "<Figure size 500x600 with 8 Axes>"
            ],
            "image/png": "[encoded data removed]"
          },
          "metadata": {}
        }
      ]
    },
    {
      "cell_type": "markdown",
      "source": [
        "## Question 10"
      ],
      "metadata": {
        "id": "mYRWTPeR6Ebu"
      }
    },
    {
      "cell_type": "code",
      "source": [
        "#Q10\n",
        "import pandas as pd\n",
        "\n",
        "matrix = np.random.uniform(1, 2, (20, 5))\n",
        "df = pd.DataFrame(matrix, columns=['a', 'b', 'c', 'd', 'e'])\n",
        "max_stdc = df.std().idxmax()\n",
        "min_meanr = df.mean(axis=1).idxmin()\n",
        "\n",
        "print(\"DataFrame:\")\n",
        "print(df)\n",
        "\n",
        "print(\"\\nColumn with the highest standard deviation:\", max_stdc)\n",
        "print(\"Row with the lowest mean:\", min_meanr)\n"
      ],
      "metadata": {
        "colab": {
          "base_uri": "https://localhost:8080/"
        },
        "id": "hLSllbuXtFxl",
        "outputId": "8387947e-e784-4350-82ec-aa295da2331c"
      },
      "execution_count": null,
      "outputs": [
        {
          "output_type": "stream",
          "name": "stdout",
          "text": [
            "DataFrame:\n",
            "           a         b         c         d         e\n",
            "0   1.904232  1.964561  1.947578  1.836907  1.656568\n",
            "1   1.516385  1.007211  1.679324  1.721456  1.162143\n",
            "2   1.635409  1.872733  1.413160  1.147199  1.825995\n",
            "3   1.625818  1.490178  1.385158  1.935113  1.217021\n",
            "4   1.105837  1.621627  1.375321  1.414261  1.448070\n",
            "5   1.040556  1.185434  1.912216  1.346469  1.203044\n",
            "6   1.989445  1.736207  1.549778  1.798933  1.905783\n",
            "7   1.912155  1.258650  1.006483  1.942294  1.407545\n",
            "8   1.504261  1.314540  1.475150  1.168895  1.238650\n",
            "9   1.579588  1.024302  1.854868  1.081738  1.689032\n",
            "10  1.860886  1.991263  1.860679  1.527813  1.932976\n",
            "11  1.725766  1.313215  1.129297  1.483499  1.461593\n",
            "12  1.623394  1.505754  1.905656  1.248482  1.091139\n",
            "13  1.968901  1.410541  1.967879  1.055877  1.387021\n",
            "14  1.665074  1.180136  1.772325  1.629398  1.996059\n",
            "15  1.872381  1.377284  1.777598  1.372882  1.326191\n",
            "16  1.977274  1.491626  1.092282  1.826636  1.361448\n",
            "17  1.473855  1.028478  1.445704  1.316891  1.214561\n",
            "18  1.047630  1.637953  1.154419  1.482313  1.185960\n",
            "19  1.398744  1.320880  1.984702  1.830877  1.696402\n",
            "\n",
            "Column with the highest standard deviation: c\n",
            "Row with the lowest mean: 17\n"
          ]
        }
      ]
    },
    {
      "cell_type": "markdown",
      "source": [
        "## Question 11"
      ],
      "metadata": {
        "id": "99gDTb5p6HL-"
      }
    },
    {
      "cell_type": "code",
      "source": [
        "df['f'] = df[['a', 'b', 'c', 'd', 'e']].sum(axis=1)\n",
        "gv = []\n",
        "for value in df['f']:\n",
        "    if value < 8:\n",
        "        gv.append('LT8')\n",
        "    else:\n",
        "        gv.append('GT8')\n",
        "df['g'] = gv\n",
        "\n",
        "lt8r = df[df['g'] == 'LT8'].shape[0]\n",
        "\n",
        "std_lt8 = df.loc[df['g'] == 'LT8', 'f'].std()\n",
        "std_gt8 = df.loc[df['g'] == 'GT8', 'f'].std()\n",
        "\n",
        "print(\"\\nNumber of rows where 'g' is 'LT8':\", lt8r)\n",
        "print(\"Standard deviation of 'f' for 'LT8':\", std_lt8)\n",
        "print(\"Standard deviation of 'f' for 'GT8':\", std_gt8)"
      ],
      "metadata": {
        "colab": {
          "base_uri": "https://localhost:8080/"
        },
        "id": "HzaYiQKtu04U",
        "outputId": "38bead99-9404-4f02-ea49-845daf16088d"
      },
      "execution_count": null,
      "outputs": [
        {
          "output_type": "stream",
          "name": "stdout",
          "text": [
            "\n",
            "Number of rows where 'g' is 'LT8': 15\n",
            "Standard deviation of 'f' for 'LT8': 0.4870836227890197\n",
            "Standard deviation of 'f' for 'GT8': 0.5158861463288615\n"
          ]
        }
      ]
    },
    {
      "cell_type": "markdown",
      "source": [
        "##Question 12\n",
        "*  Broadcasting in numpy enables it to work with arrays of different shapes in arithmetic operations, even if these arrays do not have the same shape. Broadcasting automatically expands the smaller array to have the same shape as the larger one, without making explicit copies of the data.\n",
        "* An example is given below where if a matrix of size $2×3$ is multiplied by a scalar all its elements gets multiplied by the scalar because of broadcasting."
      ],
      "metadata": {
        "id": "I9z4iEmYwtjM"
      }
    },
    {
      "cell_type": "code",
      "source": [
        "#Q12\n",
        "matrix = np.array([[1, 2, 3], [4, 5, 6]])\n",
        "\n",
        "num = 2\n",
        "upd_mat = matrix*num\n",
        "\n",
        "print(\"Original Matrix:\")\n",
        "print(matrix)\n",
        "print(\"\\nResult after Broadcasting:\")\n",
        "print(upd_mat)\n"
      ],
      "metadata": {
        "colab": {
          "base_uri": "https://localhost:8080/"
        },
        "id": "RwHWQ0yBwBba",
        "outputId": "60b5bd08-98d9-41ff-9224-a2c6bbc48360"
      },
      "execution_count": null,
      "outputs": [
        {
          "output_type": "stream",
          "name": "stdout",
          "text": [
            "Original Matrix:\n",
            "[[1 2 3]\n",
            " [4 5 6]]\n",
            "\n",
            "Result after Broadcasting:\n",
            "[[ 2  4  6]\n",
            " [ 8 10 12]]\n"
          ]
        }
      ]
    },
    {
      "cell_type": "markdown",
      "source": [
        "## Question 13"
      ],
      "metadata": {
        "id": "G1p2QQAM6P5E"
      }
    },
    {
      "cell_type": "code",
      "source": [
        "#Q13\n",
        "import numpy as np\n",
        "\n",
        "def argmin_(arr1):\n",
        "    arr=[]\n",
        "    for i in arr1:\n",
        "        arr.append(i)\n",
        "    id=0\n",
        "    for i in range(1, len(arr)):\n",
        "        if arr[i] < arr[id]:\n",
        "            id = i\n",
        "    return id\n",
        "\n",
        "ra1 = np.random.randint(low=-1e9, high=1e9, size=int(1e3))\n",
        "print(\"my argmin result:\", argmin_(ra1))\n",
        "print(\"NumPy argmin result:\", np.argmin(ra1))\n"
      ],
      "metadata": {
        "colab": {
          "base_uri": "https://localhost:8080/"
        },
        "id": "SN9DisxjyO5U",
        "outputId": "2f6ed27c-ca29-4de6-91ed-3e6973513059"
      },
      "execution_count": null,
      "outputs": [
        {
          "output_type": "stream",
          "name": "stdout",
          "text": [
            "my argmin result: 552\n",
            "NumPy argmin result: 552\n"
          ]
        }
      ]
    }
  ]
}